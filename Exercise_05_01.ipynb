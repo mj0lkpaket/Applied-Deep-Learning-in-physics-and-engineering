{
  "nbformat": 4,
  "nbformat_minor": 0,
  "metadata": {
    "colab": {
      "provenance": [],
      "include_colab_link": true
    },
    "kernelspec": {
      "display_name": "Python 3",
      "language": "python",
      "name": "python3"
    },
    "language_info": {
      "codemirror_mode": {
        "name": "ipython",
        "version": 3
      },
      "file_extension": ".py",
      "mimetype": "text/x-python",
      "name": "python",
      "nbconvert_exporter": "python",
      "pygments_lexer": "ipython3",
      "version": "3.6.9"
    }
  },
  "cells": [
    {
      "cell_type": "markdown",
      "metadata": {
        "id": "view-in-github",
        "colab_type": "text"
      },
      "source": [
        "<a href=\"https://colab.research.google.com/github/mj0lkpaket/Applied-Deep-Learning-in-physics-and-engineering/blob/main/Exercise_05_01.ipynb\" target=\"_parent\"><img src=\"https://colab.research.google.com/assets/colab-badge.svg\" alt=\"Open In Colab\"/></a>"
      ]
    },
    {
      "cell_type": "markdown",
      "metadata": {
        "id": "rF2trPuyzm9C"
      },
      "source": [
        "# Exercise 5.1\n"
      ]
    },
    {
      "cell_type": "code",
      "metadata": {
        "id": "ipcsUFDUzm9C"
      },
      "source": [
        "import numpy as np\n",
        "import matplotlib.pyplot as plt"
      ],
      "execution_count": 2,
      "outputs": []
    },
    {
      "cell_type": "markdown",
      "metadata": {
        "id": "MCJe_ITJzm9G"
      },
      "source": [
        "**Simple Network**\n",
        "\n",
        "We continue with the dataset first encountered in the previous exercise. Please refer to the discussion there for an introduction to the data and the learning objective.\n",
        "\n",
        "Here, we manually implement a simple network architecture"
      ]
    },
    {
      "cell_type": "code",
      "metadata": {
        "id": "NopU99AT9G7s",
        "outputId": "7016f669-589c-4666-e61f-e47773e0c71b",
        "colab": {
          "base_uri": "https://localhost:8080/"
        }
      },
      "source": [
        "# The code snippet below is responsible for downloading the dataset\n",
        "# - for example when running via Google Colab.\n",
        "#\n",
        "# You can also directly download the file using the link if you work\n",
        "# with a local setup (in that case, ignore the !wget)\n",
        "import os\n",
        "if not os.path.exists(\"winequality-white.csv\"):\n",
        "  !wget https://archive.ics.uci.edu/ml/machine-learning-databases/wine-quality/winequality-white.csv --no-check-certificate"
      ],
      "execution_count": 3,
      "outputs": [
        {
          "output_type": "stream",
          "name": "stdout",
          "text": [
            "--2023-11-14 16:44:04--  https://archive.ics.uci.edu/ml/machine-learning-databases/wine-quality/winequality-white.csv\n",
            "Resolving archive.ics.uci.edu (archive.ics.uci.edu)... 128.195.10.252\n",
            "Connecting to archive.ics.uci.edu (archive.ics.uci.edu)|128.195.10.252|:443... connected.\n",
            "HTTP request sent, awaiting response... 200 OK\n",
            "Length: unspecified\n",
            "Saving to: ‘winequality-white.csv’\n",
            "\n",
            "\rwinequality-white.c     [<=>                 ]       0  --.-KB/s               \rwinequality-white.c     [ <=>                ] 258.23K  --.-KB/s    in 0.04s   \n",
            "\n",
            "2023-11-14 16:44:04 (7.08 MB/s) - ‘winequality-white.csv’ saved [264426]\n",
            "\n"
          ]
        }
      ]
    },
    {
      "cell_type": "code",
      "metadata": {
        "colab": {
          "base_uri": "https://localhost:8080/"
        },
        "id": "5ONqeI5Uzm9H",
        "outputId": "8a6b1710-3e32-440b-e7ee-ee23c4b58e26"
      },
      "source": [
        "# Before working with the data,\n",
        "# we download and prepare all features\n",
        "\n",
        "# load all examples from the file\n",
        "data = np.genfromtxt('winequality-white.csv',delimiter=\";\",skip_header=1)\n",
        "\n",
        "print(\"data:\", data.shape)\n",
        "\n",
        "# Prepare for proper training\n",
        "np.random.seed(1234)\n",
        "np.random.shuffle(data) # randomly sort examples\n",
        "\n",
        "# take the first 3000 examples for training\n",
        "# (remember array slicing from last week)\n",
        "X_train = data[:3000,:11] # all features except last column\n",
        "y_train = data[:3000,11]  # quality column\n",
        "\n",
        "# and the remaining examples for testing\n",
        "X_test = data[3000:,:11] # all features except last column\n",
        "y_test = data[3000:,11] # quality column\n",
        "\n",
        "print(\"First example:\")\n",
        "print(\"Features:\", X_train[0])\n",
        "print(\"Quality:\", y_train[0])"
      ],
      "execution_count": 4,
      "outputs": [
        {
          "output_type": "stream",
          "name": "stdout",
          "text": [
            "data: (4898, 12)\n",
            "First example:\n",
            "Features: [6.100e+00 2.200e-01 4.900e-01 1.500e+00 5.100e-02 1.800e+01 8.700e+01\n",
            " 9.928e-01 3.300e+00 4.600e-01 9.600e+00]\n",
            "Quality: 5.0\n"
          ]
        }
      ]
    },
    {
      "cell_type": "markdown",
      "metadata": {
        "id": "jiwnyNHpzm9L"
      },
      "source": [
        "# Problems\n",
        "\n",
        "The goal is to implement the training of a neural network with one input layer, one hidden layer, and one output layer using gradient descent. We first (below) define the matrices and initialise with random values. We need W, b, W' and b'. The shapes will be:\n",
        "  * W: (number of hidden nodes, number of inputs) named `W`\n",
        "  * b: (number of hidden nodes) named `b`\n",
        "  * W': (number of hidden nodes) named `Wp`\n",
        "  * b': (one) named `bp`\n",
        "\n",
        "Your tasks are:     \n",
        "   * Implement a forward pass of the network as `dnn` (see below)\n",
        "   * Implement a function that uses one data point to update the weights using gradient descent. You can follow the `update_weights` skeleton below\n",
        "   * Now you can use the code below (training loop and evaluation) to train the network for multiple data points and even over several epochs. Try to find a set of hyperparameters (number of nodes in the hidden layer, learning rate, number of training epochs) that gives stable results. What is the best result (as measured by the loss on the training sample) you can get?"
      ]
    },
    {
      "cell_type": "code",
      "metadata": {
        "id": "gRzvovJvkQB1",
        "outputId": "717fdebe-e75d-48fd-964e-9a98edb4c50d",
        "colab": {
          "base_uri": "https://localhost:8080/"
        }
      },
      "source": [
        "# Initialise weights with suitable random distributions\n",
        "hidden_nodes = 50 # number of nodes in the hidden layer\n",
        "n_inputs = 11 # input features in the dataset\n",
        "\n",
        "W = np.random.randn(hidden_nodes,11)*np.sqrt(2./n_inputs)\n",
        "b = np.random.randn(hidden_nodes)*np.sqrt(2./n_inputs)\n",
        "Wp = np.random.randn(hidden_nodes)*np.sqrt(2./hidden_nodes)\n",
        "bp = np.random.randn((1))\n",
        "\n",
        "print(W.shape)\n",
        "print(Wp.shape)\n",
        "print(b.shape)\n",
        "print(np.array_split(W, 32)[2].shape)"
      ],
      "execution_count": 5,
      "outputs": [
        {
          "output_type": "stream",
          "name": "stdout",
          "text": [
            "(50, 11)\n",
            "(50,)\n",
            "(50,)\n",
            "(2, 11)\n"
          ]
        }
      ]
    },
    {
      "cell_type": "code",
      "metadata": {
        "id": "ZI4TGelKkQB2"
      },
      "source": [
        "# You can use this implementation of the ReLu activation function\n",
        "def relu(x):\n",
        "    return np.maximum(x, 0)"
      ],
      "execution_count": 6,
      "outputs": []
    },
    {
      "cell_type": "code",
      "metadata": {
        "id": "qzR88W_okQB2"
      },
      "source": [
        "def dnn(x,W,b,Wp,bp):\n",
        "    # TODO Calculate and return network output of forward pass\n",
        "    # See Hint 1 for additional information\n",
        "    input = np.matmul(W, x) + b\n",
        "    activation = [relu(x) for x in input]\n",
        "    y = np.matmul(Wp.T, activation) + bp\n",
        "\n",
        "\n",
        "    return y # change to the calculated output"
      ],
      "execution_count": 7,
      "outputs": []
    },
    {
      "cell_type": "code",
      "metadata": {
        "id": "rFp4e-RhkQB3"
      },
      "source": [
        "def update_weights(x,y, W, b, Wp, bp):\n",
        "\n",
        "    learning_rate =  1e-4\n",
        "    k = 32 #batch size\n",
        "\n",
        "    # TODO: Calculate the network output (use the function dnn defined above)\n",
        "    y_pred = [dnn(x,W,b,Wp,bp)[0] for x in X_train]\n",
        "\n",
        "    # TODO: Derive the gradient for each of W,b,Wp,bp by taking the partial\n",
        "    # derivative of the loss function with respect to the variable and\n",
        "    # then implement the resulting weight-update procedure\n",
        "    # See Hint 2 for additional information\n",
        "\n",
        "    # You might need these numpy functions:\n",
        "    # np.dot, np.outer, np.heaviside\n",
        "    # Hint: Use .shape and print statements to make sure all operations\n",
        "    # do what you want them to\n",
        "    W_split = np.array_split(W, k)\n",
        "    Wp_split = np.array_split(Wp, k)\n",
        "    x_split = np.array_split(x, k)\n",
        "\n",
        "    dLdbp = 2*(y_pred - y)\n",
        "    dLdb = []\n",
        "    dLdWp = []\n",
        "    dLdW = []\n",
        "\n",
        "    for j in range(0, len(W_split)):\n",
        "      Wk = W_split[j]\n",
        "      Wpk = Wp_split[j]\n",
        "      xk = x_split[j]\n",
        "      print(dLdbp.shape)\n",
        "      print(Wpk.shape)\n",
        "      dLdbk = np.matmul(dLdbp.T,  Wpk * np.heaviside(sum([Wk[i]*x[i] + b[k] for i in range(0, len(x))])))\n",
        "      dLdWpk = dLdbp * relu(sum([Wk[i]*x[i] + b[k] for i in range(0, len(x))]))\n",
        "\n",
        "      row = []\n",
        "      for m in range(0, len(Wp)):\n",
        "        dLdWkm = np.matmul(np.matmul(dLdbp, Wp[m] * np.heaviside(sum([W[m][i]*x[i] + b[m] for i in range(0, len(x))]))), xk) * x[i]\n",
        "        row.append(dLdWkm)\n",
        "      dLdb.append(dLdbk)\n",
        "      dLdWp.append(dLdWpk)\n",
        "      dLdW.append(row)\n",
        "\n",
        "\n",
        "    # TODO: Update the weights/bias following the rule:  weight_new = weight_old - learning_rate * gradient\n",
        "    W_new = W - learning_rate * dLdW\n",
        "    b_new = b - learning_rate * dLdb\n",
        "    Wp_new = Wp - learning_rate * dLdWp\n",
        "    bp_new = bp - learning_rate * dLdbp\n",
        "\n",
        "    return W_new, b_new, Wp_new, bp_new # return the new weights"
      ],
      "execution_count": 12,
      "outputs": []
    },
    {
      "cell_type": "markdown",
      "metadata": {
        "id": "guL8sB2ikQB3"
      },
      "source": [
        "# Training loop and evaluation below"
      ]
    },
    {
      "cell_type": "code",
      "metadata": {
        "id": "uSr8cC6-kQB4",
        "outputId": "fa74003b-f4ed-4ec4-ddc5-9ff43ab2e661",
        "colab": {
          "base_uri": "https://localhost:8080/",
          "height": 441
        }
      },
      "source": [
        "# The code below implements the training.\n",
        "# If you correctly implement  dnn and update_weights above,\n",
        "# you should not need to change anything below.\n",
        "# (apart from increasing the number of epochs)\n",
        "\n",
        "train_losses = []\n",
        "test_losses = []\n",
        "\n",
        "# How many epochs to train\n",
        "# This will just train for one epoch\n",
        "# You will want a higher number once everything works\n",
        "n_epochs = 1\n",
        "\n",
        "# Loop over the epochs\n",
        "for ep in range(n_epochs):\n",
        "\n",
        "    # Each epoch is a complete over the training data\n",
        "    for i in range(X_train.shape[0]):\n",
        "\n",
        "        # pick one example\n",
        "        x = X_train[i]\n",
        "        y = y_train[i]\n",
        "\n",
        "        # use it to update the weights\n",
        "        W,b,Wp,bp = update_weights(x,y,W,b,Wp,bp)\n",
        "\n",
        "    # Calculate predictions for the full training and testing sample\n",
        "    y_pred_train = [dnn(x,W,b,Wp,bp)[0] for x in X_train]\n",
        "    y_pred = [dnn(x,W,b,Wp,bp)[0] for x in X_test]\n",
        "\n",
        "    # Calculate aver loss / example over the epoch\n",
        "    train_loss = sum((y_pred_train-y_train)**2) / y_train.shape[0]\n",
        "    test_loss = sum((y_pred-y_test)**2) / y_test.shape[0]\n",
        "\n",
        "    # print some information\n",
        "    print(\"Epoch:\",ep, \"Train Loss:\", train_loss, \"Test Loss:\", test_loss)\n",
        "\n",
        "    # and store the losses for later use\n",
        "    train_losses.append(train_loss)\n",
        "    test_losses.append(test_loss)\n",
        "\n",
        "\n",
        "# After the training:\n",
        "\n",
        "# Prepare scatter plot\n",
        "y_pred = [dnn(x,W,b,Wp,bp)[0] for x in X_test]\n",
        "\n",
        "print(\"Best loss:\", min(test_losses), \"Final loss:\", test_losses[-1])\n",
        "\n",
        "print(\"Correlation coefficient:\", np.corrcoef(y_pred,y_test)[0,1])\n",
        "plt.scatter(y_pred_train,y_train)\n",
        "plt.xlabel(\"Predicted\")\n",
        "plt.ylabel(\"True\")\n",
        "plt.show()\n",
        "\n",
        "# Prepare and loss over time\n",
        "plt.plot(train_losses,label=\"train\")\n",
        "plt.plot(test_losses,label=\"test\")\n",
        "plt.legend()\n",
        "plt.xlabel(\"Epoch\")\n",
        "plt.ylabel(\"Loss\")\n",
        "plt.show()\n"
      ],
      "execution_count": 13,
      "outputs": [
        {
          "output_type": "stream",
          "name": "stdout",
          "text": [
            "(3000,)\n",
            "(2,)\n"
          ]
        },
        {
          "output_type": "error",
          "ename": "IndexError",
          "evalue": "ignored",
          "traceback": [
            "\u001b[0;31m---------------------------------------------------------------------------\u001b[0m",
            "\u001b[0;31mIndexError\u001b[0m                                Traceback (most recent call last)",
            "\u001b[0;32m<ipython-input-13-5e04bdba7146>\u001b[0m in \u001b[0;36m<cell line: 15>\u001b[0;34m()\u001b[0m\n\u001b[1;32m     23\u001b[0m \u001b[0;34m\u001b[0m\u001b[0m\n\u001b[1;32m     24\u001b[0m         \u001b[0;31m# use it to update the weights\u001b[0m\u001b[0;34m\u001b[0m\u001b[0;34m\u001b[0m\u001b[0m\n\u001b[0;32m---> 25\u001b[0;31m         \u001b[0mW\u001b[0m\u001b[0;34m,\u001b[0m\u001b[0mb\u001b[0m\u001b[0;34m,\u001b[0m\u001b[0mWp\u001b[0m\u001b[0;34m,\u001b[0m\u001b[0mbp\u001b[0m \u001b[0;34m=\u001b[0m \u001b[0mupdate_weights\u001b[0m\u001b[0;34m(\u001b[0m\u001b[0mx\u001b[0m\u001b[0;34m,\u001b[0m\u001b[0my\u001b[0m\u001b[0;34m,\u001b[0m\u001b[0mW\u001b[0m\u001b[0;34m,\u001b[0m\u001b[0mb\u001b[0m\u001b[0;34m,\u001b[0m\u001b[0mWp\u001b[0m\u001b[0;34m,\u001b[0m\u001b[0mbp\u001b[0m\u001b[0;34m)\u001b[0m\u001b[0;34m\u001b[0m\u001b[0;34m\u001b[0m\u001b[0m\n\u001b[0m\u001b[1;32m     26\u001b[0m \u001b[0;34m\u001b[0m\u001b[0m\n\u001b[1;32m     27\u001b[0m     \u001b[0;31m# Calculate predictions for the full training and testing sample\u001b[0m\u001b[0;34m\u001b[0m\u001b[0;34m\u001b[0m\u001b[0m\n",
            "\u001b[0;32m<ipython-input-12-d8b5b1efd09b>\u001b[0m in \u001b[0;36mupdate_weights\u001b[0;34m(x, y, W, b, Wp, bp)\u001b[0m\n\u001b[1;32m     31\u001b[0m       \u001b[0mprint\u001b[0m\u001b[0;34m(\u001b[0m\u001b[0mdLdbp\u001b[0m\u001b[0;34m.\u001b[0m\u001b[0mshape\u001b[0m\u001b[0;34m)\u001b[0m\u001b[0;34m\u001b[0m\u001b[0;34m\u001b[0m\u001b[0m\n\u001b[1;32m     32\u001b[0m       \u001b[0mprint\u001b[0m\u001b[0;34m(\u001b[0m\u001b[0mWpk\u001b[0m\u001b[0;34m.\u001b[0m\u001b[0mshape\u001b[0m\u001b[0;34m)\u001b[0m\u001b[0;34m\u001b[0m\u001b[0;34m\u001b[0m\u001b[0m\n\u001b[0;32m---> 33\u001b[0;31m       \u001b[0mdLdbk\u001b[0m \u001b[0;34m=\u001b[0m \u001b[0mnp\u001b[0m\u001b[0;34m.\u001b[0m\u001b[0mmatmul\u001b[0m\u001b[0;34m(\u001b[0m\u001b[0mdLdbp\u001b[0m\u001b[0;34m.\u001b[0m\u001b[0mT\u001b[0m\u001b[0;34m,\u001b[0m  \u001b[0mWpk\u001b[0m \u001b[0;34m*\u001b[0m \u001b[0mnp\u001b[0m\u001b[0;34m.\u001b[0m\u001b[0mheaviside\u001b[0m\u001b[0;34m(\u001b[0m\u001b[0msum\u001b[0m\u001b[0;34m(\u001b[0m\u001b[0;34m[\u001b[0m\u001b[0mWk\u001b[0m\u001b[0;34m[\u001b[0m\u001b[0mi\u001b[0m\u001b[0;34m]\u001b[0m\u001b[0;34m*\u001b[0m\u001b[0mx\u001b[0m\u001b[0;34m[\u001b[0m\u001b[0mi\u001b[0m\u001b[0;34m]\u001b[0m \u001b[0;34m+\u001b[0m \u001b[0mb\u001b[0m\u001b[0;34m[\u001b[0m\u001b[0mk\u001b[0m\u001b[0;34m]\u001b[0m \u001b[0;32mfor\u001b[0m \u001b[0mi\u001b[0m \u001b[0;32min\u001b[0m \u001b[0mrange\u001b[0m\u001b[0;34m(\u001b[0m\u001b[0;36m0\u001b[0m\u001b[0;34m,\u001b[0m \u001b[0mlen\u001b[0m\u001b[0;34m(\u001b[0m\u001b[0mx\u001b[0m\u001b[0;34m)\u001b[0m\u001b[0;34m)\u001b[0m\u001b[0;34m]\u001b[0m\u001b[0;34m)\u001b[0m\u001b[0;34m)\u001b[0m\u001b[0;34m)\u001b[0m\u001b[0;34m\u001b[0m\u001b[0;34m\u001b[0m\u001b[0m\n\u001b[0m\u001b[1;32m     34\u001b[0m       \u001b[0mdLdWpk\u001b[0m \u001b[0;34m=\u001b[0m \u001b[0mdLdbp\u001b[0m \u001b[0;34m*\u001b[0m \u001b[0mrelu\u001b[0m\u001b[0;34m(\u001b[0m\u001b[0msum\u001b[0m\u001b[0;34m(\u001b[0m\u001b[0;34m[\u001b[0m\u001b[0mWk\u001b[0m\u001b[0;34m[\u001b[0m\u001b[0mi\u001b[0m\u001b[0;34m]\u001b[0m\u001b[0;34m*\u001b[0m\u001b[0mx\u001b[0m\u001b[0;34m[\u001b[0m\u001b[0mi\u001b[0m\u001b[0;34m]\u001b[0m \u001b[0;34m+\u001b[0m \u001b[0mb\u001b[0m\u001b[0;34m[\u001b[0m\u001b[0mk\u001b[0m\u001b[0;34m]\u001b[0m \u001b[0;32mfor\u001b[0m \u001b[0mi\u001b[0m \u001b[0;32min\u001b[0m \u001b[0mrange\u001b[0m\u001b[0;34m(\u001b[0m\u001b[0;36m0\u001b[0m\u001b[0;34m,\u001b[0m \u001b[0mlen\u001b[0m\u001b[0;34m(\u001b[0m\u001b[0mx\u001b[0m\u001b[0;34m)\u001b[0m\u001b[0;34m)\u001b[0m\u001b[0;34m]\u001b[0m\u001b[0;34m)\u001b[0m\u001b[0;34m)\u001b[0m\u001b[0;34m\u001b[0m\u001b[0;34m\u001b[0m\u001b[0m\n\u001b[1;32m     35\u001b[0m \u001b[0;34m\u001b[0m\u001b[0m\n",
            "\u001b[0;32m<ipython-input-12-d8b5b1efd09b>\u001b[0m in \u001b[0;36m<listcomp>\u001b[0;34m(.0)\u001b[0m\n\u001b[1;32m     31\u001b[0m       \u001b[0mprint\u001b[0m\u001b[0;34m(\u001b[0m\u001b[0mdLdbp\u001b[0m\u001b[0;34m.\u001b[0m\u001b[0mshape\u001b[0m\u001b[0;34m)\u001b[0m\u001b[0;34m\u001b[0m\u001b[0;34m\u001b[0m\u001b[0m\n\u001b[1;32m     32\u001b[0m       \u001b[0mprint\u001b[0m\u001b[0;34m(\u001b[0m\u001b[0mWpk\u001b[0m\u001b[0;34m.\u001b[0m\u001b[0mshape\u001b[0m\u001b[0;34m)\u001b[0m\u001b[0;34m\u001b[0m\u001b[0;34m\u001b[0m\u001b[0m\n\u001b[0;32m---> 33\u001b[0;31m       \u001b[0mdLdbk\u001b[0m \u001b[0;34m=\u001b[0m \u001b[0mnp\u001b[0m\u001b[0;34m.\u001b[0m\u001b[0mmatmul\u001b[0m\u001b[0;34m(\u001b[0m\u001b[0mdLdbp\u001b[0m\u001b[0;34m.\u001b[0m\u001b[0mT\u001b[0m\u001b[0;34m,\u001b[0m  \u001b[0mWpk\u001b[0m \u001b[0;34m*\u001b[0m \u001b[0mnp\u001b[0m\u001b[0;34m.\u001b[0m\u001b[0mheaviside\u001b[0m\u001b[0;34m(\u001b[0m\u001b[0msum\u001b[0m\u001b[0;34m(\u001b[0m\u001b[0;34m[\u001b[0m\u001b[0mWk\u001b[0m\u001b[0;34m[\u001b[0m\u001b[0mi\u001b[0m\u001b[0;34m]\u001b[0m\u001b[0;34m*\u001b[0m\u001b[0mx\u001b[0m\u001b[0;34m[\u001b[0m\u001b[0mi\u001b[0m\u001b[0;34m]\u001b[0m \u001b[0;34m+\u001b[0m \u001b[0mb\u001b[0m\u001b[0;34m[\u001b[0m\u001b[0mk\u001b[0m\u001b[0;34m]\u001b[0m \u001b[0;32mfor\u001b[0m \u001b[0mi\u001b[0m \u001b[0;32min\u001b[0m \u001b[0mrange\u001b[0m\u001b[0;34m(\u001b[0m\u001b[0;36m0\u001b[0m\u001b[0;34m,\u001b[0m \u001b[0mlen\u001b[0m\u001b[0;34m(\u001b[0m\u001b[0mx\u001b[0m\u001b[0;34m)\u001b[0m\u001b[0;34m)\u001b[0m\u001b[0;34m]\u001b[0m\u001b[0;34m)\u001b[0m\u001b[0;34m)\u001b[0m\u001b[0;34m)\u001b[0m\u001b[0;34m\u001b[0m\u001b[0;34m\u001b[0m\u001b[0m\n\u001b[0m\u001b[1;32m     34\u001b[0m       \u001b[0mdLdWpk\u001b[0m \u001b[0;34m=\u001b[0m \u001b[0mdLdbp\u001b[0m \u001b[0;34m*\u001b[0m \u001b[0mrelu\u001b[0m\u001b[0;34m(\u001b[0m\u001b[0msum\u001b[0m\u001b[0;34m(\u001b[0m\u001b[0;34m[\u001b[0m\u001b[0mWk\u001b[0m\u001b[0;34m[\u001b[0m\u001b[0mi\u001b[0m\u001b[0;34m]\u001b[0m\u001b[0;34m*\u001b[0m\u001b[0mx\u001b[0m\u001b[0;34m[\u001b[0m\u001b[0mi\u001b[0m\u001b[0;34m]\u001b[0m \u001b[0;34m+\u001b[0m \u001b[0mb\u001b[0m\u001b[0;34m[\u001b[0m\u001b[0mk\u001b[0m\u001b[0;34m]\u001b[0m \u001b[0;32mfor\u001b[0m \u001b[0mi\u001b[0m \u001b[0;32min\u001b[0m \u001b[0mrange\u001b[0m\u001b[0;34m(\u001b[0m\u001b[0;36m0\u001b[0m\u001b[0;34m,\u001b[0m \u001b[0mlen\u001b[0m\u001b[0;34m(\u001b[0m\u001b[0mx\u001b[0m\u001b[0;34m)\u001b[0m\u001b[0;34m)\u001b[0m\u001b[0;34m]\u001b[0m\u001b[0;34m)\u001b[0m\u001b[0;34m)\u001b[0m\u001b[0;34m\u001b[0m\u001b[0;34m\u001b[0m\u001b[0m\n\u001b[1;32m     35\u001b[0m \u001b[0;34m\u001b[0m\u001b[0m\n",
            "\u001b[0;31mIndexError\u001b[0m: index 2 is out of bounds for axis 0 with size 2"
          ]
        }
      ]
    },
    {
      "cell_type": "markdown",
      "metadata": {
        "id": "4Nen08epkQB4"
      },
      "source": [
        "# Hint 1"
      ]
    },
    {
      "cell_type": "markdown",
      "metadata": {
        "id": "escPUs3CkQB5"
      },
      "source": [
        "We want a network with one hidden layer. As activiation in the hidden layer $\\sigma$ we apply element-wise ReLu, while no activation is used for the output layer. The forward pass of the network then reads:\n",
        "$$\\hat{y}=\\mathbf{W}^{\\prime} \\sigma(\\mathbf{W} \\vec{x}+\\vec{b})+b^{\\prime}$$"
      ]
    },
    {
      "cell_type": "markdown",
      "metadata": {
        "id": "_DRDzLi2kQB5"
      },
      "source": [
        "# Hint 2"
      ]
    },
    {
      "cell_type": "markdown",
      "metadata": {
        "id": "GN01itNUkQB5"
      },
      "source": [
        "For the regression problem the objective function is the mean squared error between the prediction and the true label $y$:\n",
        "$$\n",
        "L=(\\hat{y}-y)^{2}\n",
        "$$\n",
        "\n",
        "Taking the partial derivatives - and diligently the applying chain rule - with respect to the different objects yields:\n",
        "\n",
        "$$\n",
        "\\begin{aligned}\n",
        "\\frac{\\partial L}{\\partial b^{\\prime}} &=2(\\hat{y}-y) \\\\\n",
        "\\frac{\\partial L}{\\partial b_{k}} &=2(\\hat{y}-y) \\mathbf{W}_{k}^{\\prime} \\theta\\left(\\sum_{i} \\mathbf{W}_{k i} x_{i}+b_{k}\\right) \\\\\n",
        "\\frac{\\partial L}{\\partial \\mathbf{W}_{k}^{\\prime}} &=2(\\hat{y}-y) \\sigma\\left(\\sum_{i} \\mathbf{W}_{k i} x_{i}+b_{k}\\right) \\\\\n",
        "\\frac{\\partial L}{\\partial \\mathbf{W}_{k m}} &=2(\\hat{y}-y) \\mathbf{W}_{m}^{\\prime} \\theta\\left(\\sum_{i} \\mathbf{W}_{m i} x_{i}+b_{m}\\right) x_{k}\n",
        "\\end{aligned}\n",
        "$$\n",
        "\n",
        "Here, $\\Theta$ denotes the Heaviside step function."
      ]
    }
  ]
}
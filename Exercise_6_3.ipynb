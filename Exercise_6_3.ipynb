{
  "nbformat": 4,
  "nbformat_minor": 0,
  "metadata": {
    "colab": {
      "provenance": [],
      "include_colab_link": true
    },
    "kernelspec": {
      "display_name": "Python 3",
      "language": "python",
      "name": "python3"
    },
    "language_info": {
      "codemirror_mode": {
        "name": "ipython",
        "version": 3
      },
      "file_extension": ".py",
      "mimetype": "text/x-python",
      "name": "python",
      "nbconvert_exporter": "python",
      "pygments_lexer": "ipython3",
      "version": "3.7.6"
    }
  },
  "cells": [
    {
      "cell_type": "markdown",
      "metadata": {
        "id": "view-in-github",
        "colab_type": "text"
      },
      "source": [
        "<a href=\"https://colab.research.google.com/github/mj0lkpaket/Applied-Deep-Learning-in-physics-and-engineering/blob/main/Exercise_6_3.ipynb\" target=\"_parent\"><img src=\"https://colab.research.google.com/assets/colab-badge.svg\" alt=\"Open In Colab\"/></a>"
      ]
    },
    {
      "cell_type": "markdown",
      "metadata": {
        "id": "WSW9BmePM7zZ"
      },
      "source": [
        "# Exercise 6.3: Neural Networks in Keras"
      ]
    },
    {
      "cell_type": "code",
      "metadata": {
        "id": "HnpsfvafCzPS"
      },
      "source": [
        "keras.backend.clear_session()"
      ],
      "execution_count": 87,
      "outputs": []
    },
    {
      "cell_type": "code",
      "metadata": {
        "id": "t02FemO-M7za"
      },
      "source": [
        "import numpy as np\n",
        "import matplotlib.pyplot as plt\n",
        "\n",
        "# See https://keras.io/\n",
        "# for extennsive documentation\n",
        "import tensorflow as tf\n",
        "from tensorflow import keras\n",
        "\n",
        "from keras.models import Sequential\n",
        "from keras.layers import Dense"
      ],
      "execution_count": 46,
      "outputs": []
    },
    {
      "cell_type": "markdown",
      "metadata": {
        "id": "IrvyHKHTM7ze"
      },
      "source": [
        "Let us visit the problem of wine quality prediction previously encountered one final time. After linear regression and a self-made network, we can now explore the comfort provided by the Keras library."
      ]
    },
    {
      "cell_type": "code",
      "metadata": {
        "id": "-H-L5egsM7ze"
      },
      "source": [
        "# The code snippet below is responsible for downloading the dataset to\n",
        "# Google. You can directly download the file using the link\n",
        "# if you work with a local anaconda setup\n",
        "import os\n",
        "if not os.path.exists(\"winequality-white.csv\"):\n",
        "  !wget https://archive.ics.uci.edu/ml/machine-learning-databases/wine-quality/winequality-white.csv --no-check-certificate"
      ],
      "execution_count": 47,
      "outputs": []
    },
    {
      "cell_type": "code",
      "metadata": {
        "id": "mDToshKJNWGY",
        "outputId": "194b317d-b504-4008-988e-094b51b643bf",
        "colab": {
          "base_uri": "https://localhost:8080/"
        }
      },
      "source": [
        "# load all examples from the file\n",
        "data = np.genfromtxt('winequality-white.csv',delimiter=\";\",skip_header=1)\n",
        "\n",
        "print(\"data:\", data.shape)\n",
        "\n",
        "# Prepare for proper training\n",
        "np.random.seed(1234) # set seed to get reproducable results\n",
        "np.random.shuffle(data) # randomly sort examples\n",
        "\n",
        "# take the first 3000 examples for training\n",
        "X_train = data[:3000,:11] # all features except last column\n",
        "y_train = data[:3000,11]  # quality column\n",
        "\n",
        "# and the remaining examples for testing\n",
        "X_test = data[3000:,:11] # all features except last column\n",
        "y_test = data[3000:,11] # quality column\n",
        "\n",
        "print(\"First example:\")\n",
        "print(\"Features:\", X_train[0])\n",
        "print(\"Quality:\", y_train[0])\n"
      ],
      "execution_count": 81,
      "outputs": [
        {
          "output_type": "stream",
          "name": "stdout",
          "text": [
            "data: (4898, 12)\n",
            "First example:\n",
            "Features: [6.100e+00 2.200e-01 4.900e-01 1.500e+00 5.100e-02 1.800e+01 8.700e+01\n",
            " 9.928e-01 3.300e+00 4.600e-01 9.600e+00]\n",
            "Quality: 5.0\n"
          ]
        }
      ]
    },
    {
      "cell_type": "markdown",
      "metadata": {
        "id": "VXx8BXB_M7zi"
      },
      "source": [
        "Below is the simple network from exercise 4.1 implemented using Keras. In addition to the network we define the loss function and optimiser."
      ]
    },
    {
      "cell_type": "code",
      "metadata": {
        "id": "Z0HMdw9eM7zi"
      },
      "source": [
        "# See: https://keras.io/api/models/sequential/ and\n",
        "# https://keras.io/api/layers/core_layers/dense/\n",
        "# We can use the Sequential class to very easiliy\n",
        "# build a simple architecture\n",
        "model = Sequential()\n",
        "# 11 inputs, 20 outputs, relu\n",
        "for i in range(0,3):\n",
        "  model.add(Dense(20, input_dim=11, activation='relu'))\n",
        "# 20 inputs (automatically detected by Keras), 1 output, linear activation\n",
        "model.add(Dense(1, activation='linear'))\n",
        "\n",
        "\n",
        "# Set loss function and optimiser algorithm\n",
        "model.compile(loss='mse',  # mean squared error\n",
        "              optimizer='adam'\n",
        "             )"
      ],
      "execution_count": 88,
      "outputs": []
    },
    {
      "cell_type": "markdown",
      "metadata": {
        "id": "I98jdZcqM7zm"
      },
      "source": [
        "# Training and evaluation below\n",
        "\n",
        "The code below trains the network for 5 epochs using the loss function and optimiser defined above. Each example is individually passed to the network"
      ]
    },
    {
      "cell_type": "code",
      "metadata": {
        "id": "2eYJwWOOAVeN",
        "outputId": "3ff75763-ad3b-4336-b950-e59529628be0",
        "colab": {
          "base_uri": "https://localhost:8080/"
        }
      },
      "source": [
        "history = model.fit(X_train, y_train,\n",
        "                    validation_data=(X_test, y_test),\n",
        "                    epochs=5, batch_size=10)\n"
      ],
      "execution_count": 89,
      "outputs": [
        {
          "output_type": "stream",
          "name": "stdout",
          "text": [
            "Epoch 1/5\n",
            "300/300 [==============================] - 2s 4ms/step - loss: 3.8466 - val_loss: 0.7605\n",
            "Epoch 2/5\n",
            "300/300 [==============================] - 1s 3ms/step - loss: 0.6406 - val_loss: 0.7013\n",
            "Epoch 3/5\n",
            "300/300 [==============================] - 1s 3ms/step - loss: 0.6316 - val_loss: 0.6381\n",
            "Epoch 4/5\n",
            "300/300 [==============================] - 1s 3ms/step - loss: 0.6430 - val_loss: 0.9626\n",
            "Epoch 5/5\n",
            "300/300 [==============================] - 1s 3ms/step - loss: 0.6458 - val_loss: 0.8465\n"
          ]
        }
      ]
    },
    {
      "cell_type": "code",
      "metadata": {
        "id": "XOyiHcIkAVeO"
      },
      "source": [
        "# The history object returned by the model training above\n",
        "# contains the values of the loss function (the mean-squared-error)\n",
        "# at different epochs\n",
        "# We discard the first epoch as the loss value is very high,\n",
        "# obscuring the rest of the distribution\n",
        "train_loss = history.history[\"loss\"][1:]\n",
        "test_loss = history.history[\"val_loss\"][1:]"
      ],
      "execution_count": 90,
      "outputs": []
    },
    {
      "cell_type": "code",
      "metadata": {
        "id": "XycXnZEqAVeP",
        "outputId": "513ccda3-fdba-4ae9-aeef-81e8d8af0919",
        "colab": {
          "base_uri": "https://localhost:8080/",
          "height": 449
        }
      },
      "source": [
        "# Prepare and plot loss over time\n",
        "plt.plot(train_loss,label=\"train\")\n",
        "plt.plot(test_loss,label=\"test\")\n",
        "plt.legend()\n",
        "plt.xlabel(\"Epoch-1\")\n",
        "plt.ylabel(\"Loss\")\n",
        "plt.show()"
      ],
      "execution_count": 91,
      "outputs": [
        {
          "output_type": "display_data",
          "data": {
            "text/plain": [
              "<Figure size 640x480 with 1 Axes>"
            ],
            "image/png": "[encoded data removed]"
          },
          "metadata": {}
        }
      ]
    },
    {
      "cell_type": "code",
      "metadata": {
        "id": "qORl2YivAVeQ",
        "outputId": "42990e77-2ab1-4803-930d-d2a2f882b680",
        "colab": {
          "base_uri": "https://localhost:8080/",
          "height": 485
        }
      },
      "source": [
        "# After the training:\n",
        "\n",
        "# Prepare scatter plot\n",
        "y_pred = model.predict(X_test)[:,0]\n",
        "\n",
        "print(\"Correlation coefficient:\", np.corrcoef(y_pred,y_test)[0,1])\n",
        "plt.scatter(y_pred,y_test)\n",
        "plt.xlabel(\"Predicted\")\n",
        "plt.ylabel(\"True\")\n",
        "plt.show()"
      ],
      "execution_count": 92,
      "outputs": [
        {
          "output_type": "stream",
          "name": "stdout",
          "text": [
            "60/60 [==============================] - 0s 3ms/step\n",
            "Correlation coefficient: 0.47025979549740515\n"
          ]
        },
        {
          "output_type": "display_data",
          "data": {
            "text/plain": [
              "<Figure size 640x480 with 1 Axes>"
            ],
            "image/png": "[encoded data removed]"
          },
          "metadata": {}
        }
      ]
    },
    {
      "cell_type": "code",
      "metadata": {
        "id": "QFUQThOeAVeQ",
        "outputId": "483aac6d-30fb-4730-fa26-c5ca1535f125",
        "colab": {
          "base_uri": "https://localhost:8080/"
        }
      },
      "source": [
        "np.corrcoef(y_pred,y_test)"
      ],
      "execution_count": 73,
      "outputs": [
        {
          "output_type": "execute_result",
          "data": {
            "text/plain": [
              "array([[1.        , 0.35934293],\n",
              "       [0.35934293, 1.        ]])"
            ]
          },
          "metadata": {},
          "execution_count": 73
        }
      ]
    },
    {
      "cell_type": "markdown",
      "metadata": {
        "id": "KI7zcK_uM7zp"
      },
      "source": [
        "\n",
        "# Problems\n",
        "\n",
        "* Use the notebook as starting point. It already contains the simple network from Exercise 4.1 implemented in Keras.\n",
        "\n",
        "* Currently, SGD is used without momentum. Try training with a momentum term. Replace SGD with the Adam optimizer and train using that. (See: https://keras.io/api/optimizers/)\n",
        "* Add two more hidden layers to the network (you can choose the number of nodes but make sure to apply the ReLu activation function after each) and train again.\n",
        "* Test differet numbers of examples (i.e. change the batch batch size) to be simulataneously used by the network.\n",
        "* (bonus) optimize the network architecture to get the best correlation coefficient. (Let's see who gets the most out of the data)."
      ]
    },
    {
      "cell_type": "code",
      "metadata": {
        "id": "2mUTzx7h2mKJ"
      },
      "source": [],
      "execution_count": null,
      "outputs": []
    }
  ]
}